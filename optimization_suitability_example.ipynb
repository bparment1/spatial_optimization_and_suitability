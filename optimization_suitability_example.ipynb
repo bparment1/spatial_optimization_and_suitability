{
 "cells": [
  {
   "cell_type": "markdown",
   "metadata": {},
   "source": [
    "# Multiple objective land allocation (MOLA)\n",
    "\n",
    "This notebook present an example of a MOLA analysis using python. We set up the problem as a linear programming optimization problem and solve it with scipy."
   ]
  },
  {
   "cell_type": "code",
   "execution_count": null,
   "metadata": {},
   "outputs": [],
   "source": [
    "############### SESYNC Research Support: Urban green planning ########## \n",
    "## Testing optimization.\n",
    "## \n",
    "##\n",
    "## DATE CREATED: 11/15/2018\n",
    "## DATE MODIFIED: 11/19/2018\n",
    "## AUTHORS: Benoit Parmentier  \n",
    "## Version: 1\n",
    "## PROJECT: Urban green infrastructure planning\n",
    "## ISSUE: \n",
    "## TO DO:\n",
    "##\n",
    "## COMMIT: fixed gdal.Warp bug, reprojection to MD SRS\n",
    "##\n",
    "\n",
    "###################################################\n",
    "#\n",
    "\n",
    "###### Library used\n",
    "\n",
    "import gdal\n",
    "import numpy as np\n",
    "import matplotlib.pyplot as plt\n",
    "import seaborn as sns\n",
    "import rasterio\n",
    "import subprocess\n",
    "import pandas as pd\n",
    "import os, glob\n",
    "from rasterio import plot\n",
    "import geopandas as gpd\n",
    "import scipy\n",
    "from math import cos\n",
    "\n",
    "################ NOW FUNCTIONS  ###################\n",
    "\n",
    "##------------------\n",
    "# Functions used in the script \n",
    "##------------------\n",
    "\n",
    "def create_dir_and_check_existence(path):\n",
    "    #Create a new directory\n",
    "    try:\n",
    "        os.makedirs(path)\n",
    "    except:\n",
    "        print (\"directory already exists\")\n",
    "\n",
    "############################################################################\n",
    "#####  Parameters and argument set up ########### \n",
    "\n",
    "#ARGS 1\n",
    "in_dir = \"/nfs/bparmentier-data/Data/projects/urban_green_planning/Data\"\n",
    "#in_dir <- \"/nfs/tjovanovic-data/Data/Baltimore/Hydrology/GAstart\"\n",
    "#ARGS 2\n",
    "out_dir = \"/nfs/bparmentier-data/Data/projects/urban_green_planning/outputs\"\n",
    "#ARGS 3:\n",
    "create_out_dir=True #create a new ouput dir if TRUE\n",
    "#ARGS 7\n",
    "out_suffix = \"mola_example_11292018\" #output suffix for the files and ouptut folder\n",
    "#ARGS 8\n",
    "num_cores = 2 # number of cores\n",
    "file_format = \".tif\"\n",
    "\n",
    "#dem_baltimore_filename = \"DEM_BaltArea_1m.tif\"\n",
    "#lc_baltimore_filename = \"landCover_area1m.tif\"\n",
    "#reg_outline_filename = \"watersheds8digit.shp\"\n",
    "\n",
    "################# START SCRIPT ###############################\n",
    "\n",
    "######### PART 0: Set up the output dir ################\n",
    "\n",
    "#set up the working directory\n",
    "#Create output directory\n",
    "\n",
    "if create_out_dir==True:\n",
    "    #out_path<-\"/data/project/layers/commons/data_workflow/output_data\"\n",
    "    out_dir = \"output_data_\"+out_suffix\n",
    "    out_dir = os.path.join(in_dir,out_dir)\n",
    "    create_dir_and_check_existence(out_dir)\n",
    "    os.chdir(out_dir)        #set working directory\n",
    "else:\n",
    "    os.chdir(create_out_dir) #use working dir defined earlier"
   ]
  },
  {
   "cell_type": "code",
   "execution_count": 60,
   "metadata": {},
   "outputs": [
    {
     "data": {
      "text/plain": [
       "<matplotlib.image.AxesImage at 0x7fdfb45b6ac8>"
      ]
     },
     "execution_count": 60,
     "metadata": {},
     "output_type": "execute_result"
    },
    {
     "data": {
      "image/png": "[encoded data removed]",
      "text/plain": [
       "<Figure size 432x288 with 1 Axes>"
      ]
     },
     "metadata": {
      "needs_background": "light"
     },
     "output_type": "display_data"
    }
   ],
   "source": [
    "#######################################\n",
    "### PART 1: Read in DATA #######\n",
    "\n",
    "# Let's create a factor (attribute) in the multiobjective land allocation:\n",
    "\n",
    "r_d = np.arange(25).reshape((5, 5))         # create a 1-d range and reshape\n",
    "plt.imshow (r_d)\n",
    "\n",
    "f2 = [3,0,8,7,\n",
    "     0,5,7,0,\n",
    "     1,6,6,4,\n",
    "    2,4,0,0,\n",
    "    6,3,2,8]\n",
    "f2 = np.asarray(x)\n",
    "\n",
    "r_d = x.reshape((5,4))         # distance to road\n",
    "plt.imshow (r_d)\n",
    "\n"
   ]
  },
  {
   "cell_type": "code",
   "execution_count": 63,
   "metadata": {},
   "outputs": [
    {
     "data": {
      "text/plain": [
       "<matplotlib.image.AxesImage at 0x7fdf9bf51eb8>"
      ]
     },
     "execution_count": 63,
     "metadata": {},
     "output_type": "execute_result"
    },
    {
     "data": {
      "image/png": "[encoded data removed]",
      "text/plain": [
       "<Figure size 432x288 with 1 Axes>"
      ]
     },
     "metadata": {
      "needs_background": "light"
     },
     "output_type": "display_data"
    }
   ],
   "source": [
    "### Now generate second factor: Map slope\n",
    "\n",
    "f2 = [6,0,6,5,\n",
    "     8,0,3,4,\n",
    "     5,7,4,7,\n",
    "     4,7,1,4,\n",
    "     8,3,6,0]\n",
    "f2 = np.asarray(f2)\n",
    "\n",
    "r_s = f2.reshape((5,4))         # slope map\n",
    "plt.imshow (r_s)\n"
   ]
  },
  {
   "cell_type": "markdown",
   "metadata": {},
   "source": [
    "#### Problem set up\n",
    "\n",
    "Assume that you are land planner and you are tasked with selecting areas for the development of as ski resort whil setting aside land for Habitat protection. The steps are as follow:\n",
    "\n",
    "1. Create factor maps (variables/criteria) relevant for your land use type objective.\n",
    "2. Select, obtain or generate weights to combine your factor (e.g. AHP, SMART etc.)\n",
    "3. Generate a suitability map for your land objective that combines all factors\n",
    "\n"
   ]
  },
  {
   "cell_type": "code",
   "execution_count": 90,
   "metadata": {},
   "outputs": [
    {
     "name": "stdout",
     "output_type": "stream",
     "text": [
      "[[15  0 30 26]\n",
      " [ 8 15 24  4]\n",
      " [ 8 25 22 19]\n",
      " [10 19  1  4]\n",
      " [26 12 12 24]]\n"
     ]
    },
    {
     "data": {
      "text/plain": [
       "<matplotlib.image.AxesImage at 0x7fdf9be34518>"
      ]
     },
     "execution_count": 90,
     "metadata": {},
     "output_type": "execute_result"
    },
    {
     "data": {
      "image/png": "[encoded data removed]",
      "text/plain": [
       "<Figure size 432x288 with 1 Axes>"
      ]
     },
     "metadata": {
      "needs_background": "light"
     },
     "output_type": "display_data"
    }
   ],
   "source": [
    "# Generate Habitat suitability \n",
    "\n",
    "r_suitability_habitat = 3*r_d + 1 * r_s \n",
    "print(r_suitability_habitat)\n",
    "plt.imshow (r_suitability_habitat)\n",
    "# note cell [1,1] is 15= 3*3 + 1*6"
   ]
  },
  {
   "cell_type": "code",
   "execution_count": 86,
   "metadata": {},
   "outputs": [
    {
     "name": "stdout",
     "output_type": "stream",
     "text": [
      "[[15  0 20 17]\n",
      " [16  5 13  8]\n",
      " [11 20 14 18]\n",
      " [10 18  2  8]\n",
      " [22  9 14  8]]\n"
     ]
    },
    {
     "data": {
      "text/plain": [
       "<matplotlib.image.AxesImage at 0x7fdf9be4b0b8>"
      ]
     },
     "execution_count": 86,
     "metadata": {},
     "output_type": "execute_result"
    },
    {
     "data": {
      "image/png": "[encoded data removed]",
      "text/plain": [
       "<Figure size 432x288 with 1 Axes>"
      ]
     },
     "metadata": {
      "needs_background": "light"
     },
     "output_type": "display_data"
    }
   ],
   "source": [
    "# Generate Ski resort suitability \n",
    "\n",
    "r_suitability_ski = 1*r_d +2*r_s \n",
    "#r_suitability_ski = np.add(1*r_d,2*r_s)\n",
    "\n",
    "print(r_suitability_ski)\n",
    "plt.imshow(r_suitability_ski)\n",
    "# note cell [1,1] is 17= 1*5 + 2*6"
   ]
  },
  {
   "cell_type": "code",
   "execution_count": 89,
   "metadata": {},
   "outputs": [
    {
     "name": "stdout",
     "output_type": "stream",
     "text": [
      "[[17  8 12 11]\n",
      " [24  3  7 16]\n",
      " [17 16 10 18]\n",
      " [14 18 10 16]\n",
      " [18 11 18  0]]\n"
     ]
    },
    {
     "data": {
      "text/plain": [
       "<matplotlib.image.AxesImage at 0x7fdf9be007f0>"
      ]
     },
     "execution_count": 89,
     "metadata": {},
     "output_type": "execute_result"
    },
    {
     "data": {
      "image/png": "[encoded data removed]",
      "text/plain": [
       "<Figure size 432x288 with 1 Axes>"
      ]
     },
     "metadata": {
      "needs_background": "light"
     },
     "output_type": "display_data"
    }
   ],
   "source": [
    "# Generate Ski resort suitability \n",
    "\n",
    "f1_ski = [5,8,0,1,\n",
    "          8,3,1,8,\n",
    "          7,2,2,4,\n",
    "          6,4,8,8,\n",
    "          2,5,6,0]\n",
    "\n",
    "f2_ski = [6,0,6,5,\n",
    "          8,0,3,4,\n",
    "          5,7,4,7,\n",
    "          4,7,1,4,\n",
    "          8,3,6,0]\n",
    "\n",
    "f1_ski = np.asarray(f1_ski)\n",
    "f2_ski = np.asarray(f2_ski)\n",
    "\n",
    "r_ski_s = f2_ski.reshape((5,4))         # slope map\n",
    "plt.imshow (r_ski_s)\n",
    "r_ski_d = f1_ski.reshape((5,4))         # distance map\n",
    "plt.imshow (r_ski_d)\n",
    "\n",
    "r_suitability_ski = 1*r_ski_d +2*r_ski_s \n",
    "#r_suitability_ski = np.add(1*r_d,2*r_s)\n",
    "\n",
    "print(r_suitability_ski)\n",
    "plt.imshow(r_suitability_ski)\n",
    "# note cell [1,1] is 17= 1*5 + 2*6"
   ]
  },
  {
   "cell_type": "code",
   "execution_count": 93,
   "metadata": {},
   "outputs": [
    {
     "ename": "AttributeError",
     "evalue": "module 'cvxpy' has no attribute 'Bool'",
     "output_type": "error",
     "traceback": [
      "\u001b[0;31m---------------------------------------------------------------------------\u001b[0m",
      "\u001b[0;31mAttributeError\u001b[0m                            Traceback (most recent call last)",
      "\u001b[0;32m<ipython-input-93-fbc4c1d3e0b0>\u001b[0m in \u001b[0;36m<module>\u001b[0;34m()\u001b[0m\n\u001b[1;32m     14\u001b[0m \u001b[0;34m\u001b[0m\u001b[0m\n\u001b[1;32m     15\u001b[0m \u001b[0;31m# The variable we are solving for\u001b[0m\u001b[0;34m\u001b[0m\u001b[0;34m\u001b[0m\u001b[0m\n\u001b[0;32m---> 16\u001b[0;31m \u001b[0mselection\u001b[0m \u001b[0;34m=\u001b[0m \u001b[0mcvxpy\u001b[0m\u001b[0;34m.\u001b[0m\u001b[0mBool\u001b[0m\u001b[0;34m(\u001b[0m\u001b[0mlen\u001b[0m\u001b[0;34m(\u001b[0m\u001b[0mweights\u001b[0m\u001b[0;34m)\u001b[0m\u001b[0;34m)\u001b[0m\u001b[0;34m\u001b[0m\u001b[0m\n\u001b[0m\u001b[1;32m     17\u001b[0m \u001b[0;34m\u001b[0m\u001b[0m\n\u001b[1;32m     18\u001b[0m \u001b[0;31m# The sum of the weights should be less than or equal to P\u001b[0m\u001b[0;34m\u001b[0m\u001b[0;34m\u001b[0m\u001b[0m\n",
      "\u001b[0;31mAttributeError\u001b[0m: module 'cvxpy' has no attribute 'Bool'"
     ]
    }
   ],
   "source": [
    "# Set up linear problem for the land allocation\n",
    "\n",
    "# Maximize \n",
    "\n",
    "import cvxpy\n",
    "import numpy as np\n",
    "\n",
    "# The data for the Knapsack problem\n",
    "# P is total weight capacity of sack\n",
    "# weights and utilities are also specified\n",
    "P = 165\n",
    "weights = np.array([23, 31, 29, 44, 53, 38, 63, 85, 89, 82])\n",
    "utilities = np.array([92, 57, 49, 68, 60, 43, 67, 84, 87, 72])\n",
    "\n",
    "# The variable we are solving for\n",
    "selection = cvxpy.Bool(len(weights))\n",
    "\n",
    "# The sum of the weights should be less than or equal to P\n",
    "weight_constraint = weights * selection <= P\n",
    "\n",
    "# Our total utility is the sum of the item utilities\n",
    "total_utility = utilities * selection\n",
    "\n",
    "# We tell cvxpy that we want to maximize total utility \n",
    "# subject to weight_constraint. All constraints in \n",
    "# cvxpy must be passed as a list\n",
    "knapsack_problem = cvxpy.Problem(cvxpy.Maximize(total_utility), [weight_constraint])\n",
    "\n",
    "# Solving the problem\n",
    "knapsack_problem.solve(solver=cvxpy.GLPK_MI)"
   ]
  },
  {
   "cell_type": "code",
   "execution_count": 42,
   "metadata": {},
   "outputs": [
    {
     "data": {
      "text/plain": [
       "(-20, 20)"
      ]
     },
     "execution_count": 42,
     "metadata": {},
     "output_type": "execute_result"
    },
    {
     "data": {
      "image/png": "[encoded data removed]",
      "text/plain": [
       "<Figure size 360x360 with 1 Axes>"
      ]
     },
     "metadata": {
      "needs_background": "light"
     },
     "output_type": "display_data"
    }
   ],
   "source": []
  },
  {
   "cell_type": "code",
   "execution_count": 41,
   "metadata": {},
   "outputs": [
    {
     "data": {
      "text/plain": [
       "(-20, 20)"
      ]
     },
     "execution_count": 41,
     "metadata": {},
     "output_type": "execute_result"
    },
    {
     "data": {
      "image/png": "[encoded data removed]",
      "text/plain": [
       "<Figure size 360x360 with 1 Axes>"
      ]
     },
     "metadata": {
      "needs_background": "light"
     },
     "output_type": "display_data"
    }
   ],
   "source": [
    "# We use 1000 iterations.\n",
    "xmin = opt.basinhopping(f, x0, 1000).x\n",
    "fig, ax = plt.subplots(1, 1, figsize=(5, 5))\n",
    "ax.plot(x, y)\n",
    "ax.scatter(x0, f(x0), marker='o', s=300)\n",
    "ax.scatter(xmin, f(xmin), marker='v', s=300,\n",
    "           zorder=20)\n",
    "ax.set_xlim(-20, 20)\n",
    "\n"
   ]
  },
  {
   "cell_type": "code",
   "execution_count": 43,
   "metadata": {},
   "outputs": [],
   "source": [
    "#now let's try two D\n",
    "def g(X):\n",
    "    # X is a 2*N matrix, each column contains\n",
    "    # x and y coordinates.\n",
    "    x, y = X\n",
    "    return (np.sin(3*np.pi*x)**2 +\n",
    "            (x-1)**2 * (1 + np.sin(3*np.pi*y)**2) +\n",
    "            (y-1)**2 * (1 + np.sin(2*np.pi*y)**2))"
   ]
  },
  {
   "cell_type": "code",
   "execution_count": 44,
   "metadata": {},
   "outputs": [
    {
     "data": {
      "image/png": "[encoded data removed]",
      "text/plain": [
       "<Figure size 216x216 with 1 Axes>"
      ]
     },
     "metadata": {
      "needs_background": "light"
     },
     "output_type": "display_data"
    }
   ],
   "source": [
    "n = 500\n",
    "k = 10\n",
    "X, Y = np.mgrid[-k:k:n * 1j,\n",
    "                -k:k:n * 1j]\n",
    "Z = g(np.vstack((X.ravel(), Y.ravel()))).reshape(n, n)\n",
    "fig, ax = plt.subplots(1, 1, figsize=(3, 3))\n",
    "# We use a logarithmic scale for the color here.\n",
    "ax.imshow(np.log(Z), cmap=plt.cm.hot_r,\n",
    "          extent=(-k, k, -k, k), origin=0)\n",
    "ax.set_axis_off()"
   ]
  },
  {
   "cell_type": "code",
   "execution_count": 45,
   "metadata": {},
   "outputs": [
    {
     "data": {
      "image/png": "[encoded data removed]",
      "text/plain": [
       "<Figure size 216x216 with 1 Axes>"
      ]
     },
     "metadata": {
      "needs_background": "light"
     },
     "output_type": "display_data"
    }
   ],
   "source": [
    "# We use the Powell method.\n",
    "x0, y0 = opt.minimize(g, (8, 3),\n",
    "                      method='Powell').x\n",
    "x0, y0\n",
    "(1.000, 1.000)\n",
    "fig, ax = plt.subplots(1, 1, figsize=(3, 3))\n",
    "ax.imshow(np.log(Z), cmap=plt.cm.hot_r,\n",
    "          extent=(-k, k, -k, k), origin=0)\n",
    "ax.scatter(x0, y0, s=100)\n",
    "ax.set_axis_off()\n",
    "\n",
    "#https://ipython-books.github.io/92-minimizing-a-mathematical-function/\n",
    "    "
   ]
  },
  {
   "cell_type": "code",
   "execution_count": null,
   "metadata": {},
   "outputs": [],
   "source": []
  }
 ],
 "metadata": {
  "kernelspec": {
   "display_name": "Python 3",
   "language": "python",
   "name": "python3"
  },
  "language_info": {
   "codemirror_mode": {
    "name": "ipython",
    "version": 3
   },
   "file_extension": ".py",
   "mimetype": "text/x-python",
   "name": "python",
   "nbconvert_exporter": "python",
   "pygments_lexer": "ipython3",
   "version": "3.5.2"
  }
 },
 "nbformat": 4,
 "nbformat_minor": 2
}
