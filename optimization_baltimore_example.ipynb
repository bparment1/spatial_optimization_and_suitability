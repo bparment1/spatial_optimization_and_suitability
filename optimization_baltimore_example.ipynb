{
 "cells": [
  {
   "cell_type": "markdown",
   "metadata": {},
   "source": [
    "# Multiple objective land allocation (MOLA)\n",
    "\n",
    "This notebook present an example of a MOLA analysis using python. We set up the problem as a linear programming optimization problem and solve it. This example is based on dataset describing temperature and distance to green infrastructure. The goal is to select location (parcels) that maximize temperature and distance from green location to mitigate urban heat and provide new green infrastructure. This is part of Tijana Jovanovic project at SESYNC."
   ]
  },
  {
   "cell_type": "code",
   "execution_count": 395,
   "metadata": {},
   "outputs": [
    {
     "name": "stdout",
     "output_type": "stream",
     "text": [
      "/nfs/bparmentier-data/Data/projects/urban_green_planning/outputs/output_data_mola_baltimore_example_12032018\n"
     ]
    }
   ],
   "source": [
    "############### SESYNC Research Support: Urban green planning ########## \n",
    "## Testing optimization.\n",
    "## \n",
    "##\n",
    "## DATE CREATED: 11/15/2018\n",
    "## DATE MODIFIED: 12/11/2018\n",
    "## AUTHORS: Benoit Parmentier, Tijana Jovanovic  \n",
    "## Version: 1\n",
    "## PROJECT: Urban green infrastructure planning\n",
    "## ISSUE: \n",
    "## TO DO:\n",
    "##\n",
    "## COMMIT: clean up\n",
    "##\n",
    "\n",
    "###################################################\n",
    "#\n",
    "\n",
    "###### Library used\n",
    "\n",
    "import gdal\n",
    "import numpy as np\n",
    "import matplotlib.pyplot as plt\n",
    "import seaborn as sns\n",
    "import rasterio\n",
    "import subprocess\n",
    "import pandas as pd\n",
    "import os, glob\n",
    "from rasterio import plot\n",
    "import geopandas as gpd\n",
    "import scipy\n",
    "from math import cos\n",
    "import cvxpy\n",
    "\n",
    "################ NOW FUNCTIONS  ###################\n",
    "\n",
    "##------------------\n",
    "# Functions used in the script \n",
    "##------------------\n",
    "\n",
    "def create_dir_and_check_existence(path):\n",
    "    #Create a new directory\n",
    "    try:\n",
    "        os.makedirs(path)\n",
    "    except:\n",
    "        print (\"directory already exists\")\n",
    "\n",
    "############################################################################\n",
    "#####  Parameters and argument set up ########### \n",
    "\n",
    "#ARGS 1\n",
    "in_dir = \"/nfs/bparmentier-data/Data/projects/urban_green_planning/Data\"\n",
    "#in_dir <- \"/nfs/tjovanovic-data/Data/Baltimore/Hydrology/GAstart\"\n",
    "#ARGS 2\n",
    "out_dir = \"/nfs/bparmentier-data/Data/projects/urban_green_planning/outputs\"\n",
    "#ARGS 3:\n",
    "create_out_dir=True #create a new ouput dir if TRUE\n",
    "#ARGS 4\n",
    "out_suffix = \"mola_baltimore_example_12032018\" #output suffix for the files and ouptut folder\n",
    "#ARGS 5\n",
    "num_cores = 2 # number of cores\n",
    "#ARGS 6\n",
    "file_format = \".csv\"\n",
    "#ARGS 7\n",
    "create_out_dir==True\n",
    "\n",
    "#dem_baltimore_filename = \"DEM_BaltArea_1m.tif\"\n",
    "#lc_baltimore_filename = \"landCover_area1m.tif\"\n",
    "#reg_outline_filename = \"watersheds8digit.shp\"\n",
    "\n",
    "################# START SCRIPT ###############################\n",
    "\n",
    "######### PART 0: Set up the output dir ################\n",
    "\n",
    "#set up the working directory\n",
    "#Create output directory\n",
    "\n",
    "if create_out_dir==True:\n",
    "    #out_path<-\"/data/project/layers/commons/data_workflow/output_data\"\n",
    "    out_dir_new = \"output_data_\"+out_suffix\n",
    "    out_dir = os.path.join(out_dir,out_dir_new)\n",
    "    create_dir_and_check_existence(out_dir)\n",
    "    os.chdir(out_dir)        #set working directory\n",
    "else:\n",
    "    os.chdir(create_out_dir) #use working dir defined earlier\n",
    "print(os.getcwd())"
   ]
  },
  {
   "cell_type": "code",
   "execution_count": 397,
   "metadata": {},
   "outputs": [
    {
     "name": "stdout",
     "output_type": "stream",
     "text": [
      "8725 (1745, 5)\n"
     ]
    },
    {
     "data": {
      "text/html": [
       "<div>\n",
       "<style scoped>\n",
       "    .dataframe tbody tr th:only-of-type {\n",
       "        vertical-align: middle;\n",
       "    }\n",
       "\n",
       "    .dataframe tbody tr th {\n",
       "        vertical-align: top;\n",
       "    }\n",
       "\n",
       "    .dataframe thead th {\n",
       "        text-align: right;\n",
       "    }\n",
       "</style>\n",
       "<table border=\"1\" class=\"dataframe\">\n",
       "  <thead>\n",
       "    <tr style=\"text-align: right;\">\n",
       "      <th></th>\n",
       "      <th>FID</th>\n",
       "      <th>OBJECTID</th>\n",
       "      <th>BLOCKLOT</th>\n",
       "      <th>DISTANCE</th>\n",
       "      <th>TEMPERATURE</th>\n",
       "    </tr>\n",
       "  </thead>\n",
       "  <tbody>\n",
       "    <tr>\n",
       "      <th>0</th>\n",
       "      <td>0</td>\n",
       "      <td>666179</td>\n",
       "      <td>3438B002B</td>\n",
       "      <td>0.018812</td>\n",
       "      <td>0.582045</td>\n",
       "    </tr>\n",
       "    <tr>\n",
       "      <th>1</th>\n",
       "      <td>1</td>\n",
       "      <td>666200</td>\n",
       "      <td>1158 080</td>\n",
       "      <td>0.010489</td>\n",
       "      <td>0.554612</td>\n",
       "    </tr>\n",
       "    <tr>\n",
       "      <th>2</th>\n",
       "      <td>2</td>\n",
       "      <td>666208</td>\n",
       "      <td>3804 017</td>\n",
       "      <td>0.014795</td>\n",
       "      <td>0.532371</td>\n",
       "    </tr>\n",
       "    <tr>\n",
       "      <th>3</th>\n",
       "      <td>3</td>\n",
       "      <td>666212</td>\n",
       "      <td>4114C029</td>\n",
       "      <td>0.013429</td>\n",
       "      <td>0.590748</td>\n",
       "    </tr>\n",
       "    <tr>\n",
       "      <th>4</th>\n",
       "      <td>4</td>\n",
       "      <td>666224</td>\n",
       "      <td>1144 004</td>\n",
       "      <td>0.010189</td>\n",
       "      <td>0.508618</td>\n",
       "    </tr>\n",
       "  </tbody>\n",
       "</table>\n",
       "</div>"
      ],
      "text/plain": [
       "   FID  OBJECTID   BLOCKLOT  DISTANCE  TEMPERATURE\n",
       "0    0    666179  3438B002B  0.018812     0.582045\n",
       "1    1    666200   1158 080  0.010489     0.554612\n",
       "2    2    666208   3804 017  0.014795     0.532371\n",
       "3    3    666212   4114C029  0.013429     0.590748\n",
       "4    4    666224   1144 004  0.010189     0.508618"
      ]
     },
     "execution_count": 397,
     "metadata": {},
     "output_type": "execute_result"
    }
   ],
   "source": [
    "#######################################\n",
    "### PART 1: Read in DATA #######\n",
    "\n",
    "in_filename_data = \"Vacant_distanceTemperature.csv\"\n",
    "\n",
    "data_df = pd.read_csv(os.path.join(in_dir,in_filename_data))\n",
    "print(data_df.size,\n",
    "      data_df.shape)\n",
    "\n",
    "data_df.head()\n"
   ]
  },
  {
   "cell_type": "code",
   "execution_count": 398,
   "metadata": {},
   "outputs": [
    {
     "data": {
      "text/plain": [
       "<matplotlib.axes._subplots.AxesSubplot at 0x7f2e504984e0>"
      ]
     },
     "execution_count": 398,
     "metadata": {},
     "output_type": "execute_result"
    },
    {
     "data": {
      "image/png": "[encoded data removed]",
      "text/plain": [
       "<Figure size 432x288 with 1 Axes>"
      ]
     },
     "metadata": {
      "needs_background": "light"
     },
     "output_type": "display_data"
    }
   ],
   "source": [
    "data_df.plot.scatter(x='DISTANCE',y='TEMPERATURE')"
   ]
  },
  {
   "cell_type": "code",
   "execution_count": 399,
   "metadata": {},
   "outputs": [],
   "source": [
    "#Let's rescale (\"normalize\") the data.\n",
    "data_df[data_df['DISTANCE']==data_df['DISTANCE'].max()]\n",
    "\n",
    "#rescaled_val= (data_df['DISTANCE'] -data_df['DISTANCE'].min())/(data_df['DISTANCE'].max()-data_df['DISTANCE'].min())\n",
    "type(rescaled_val)\n",
    "#print(rescaled_val.max(),rescaled_val.min())\n",
    "#rescaled_val.head()\n",
    "##Normalized distance\n",
    "data_df['DISTANCE_n']= (data_df['DISTANCE'] -data_df['DISTANCE'].min())/(data_df['DISTANCE'].max()-data_df['DISTANCE'].min())\n",
    "\n"
   ]
  },
  {
   "cell_type": "code",
   "execution_count": 400,
   "metadata": {},
   "outputs": [
    {
     "data": {
      "text/plain": [
       "0    1.386210\n",
       "1    1.003003\n",
       "2    1.164823\n",
       "3    1.164792\n",
       "4    0.944170\n",
       "dtype: float64"
      ]
     },
     "execution_count": 400,
     "metadata": {},
     "output_type": "execute_result"
    }
   ],
   "source": [
    "f_combined = data_df['DISTANCE_n'] + data_df['TEMPERATURE']\n",
    "type(f_combined)\n",
    "f_combined.head()"
   ]
  },
  {
   "cell_type": "code",
   "execution_count": 401,
   "metadata": {},
   "outputs": [
    {
     "name": "stderr",
     "output_type": "stream",
     "text": [
      "/usr/local/lib/python3.5/dist-packages/ipykernel_launcher.py:1: FutureWarning: Method .as_matrix will be removed in a future version. Use .values instead.\n",
      "  \"\"\"Entry point for launching an IPython kernel.\n"
     ]
    },
    {
     "data": {
      "text/plain": [
       "numpy.ndarray"
      ]
     },
     "execution_count": 401,
     "metadata": {},
     "output_type": "execute_result"
    }
   ],
   "source": [
    "factor_combined=f_combined.as_matrix()\n",
    "type(factor_combined)"
   ]
  },
  {
   "cell_type": "code",
   "execution_count": 402,
   "metadata": {},
   "outputs": [],
   "source": [
    "from pulp import *\n",
    "import numpy as np\n",
    "\n",
    "number_of_objectives = 2\n",
    "number_of_locations = 1745\n",
    "#n_pix = number_of_objectives*number_of_locations\n",
    "n_loc = 1745\n",
    "\n",
    "locations=['location_%d'%i for i in range(n_loc)] # for spatial application: locations,parcels or pixels to select \n",
    "\n",
    "#variables. How many of each object to take. For simplicity lets make this 0 or 1 (classic 0-1 knapsack problem)\n",
    "#x1 = LpVariable.dicts('pixel',pixels,0,1, LpBinary) #decision var for ski objective\n",
    "#x2 = LpVariable.dicts('pixel',pixels,0,1, LpBinary) #decision for habitat objection\n",
    "x = LpVariable.dicts('location',locations,0,1, LpBinary) #decision for habitat objection\n",
    "\n",
    "#val1 = dict(zip(pixels,r_suitability_ski.ravel().T))\n",
    "val = dict(zip(locations,factor_combined))\n",
    "            \n",
    "D=200 \n",
    "#select 200 locations correspond to Weight in Knapsack 0-1\n",
    "\n",
    "#create the problme\n",
    "prob2=LpProblem(\"knapsack\",LpMaximize)\n"
   ]
  },
  {
   "cell_type": "code",
   "execution_count": 403,
   "metadata": {},
   "outputs": [],
   "source": [
    "list_obj= [val[i]*x[i] for i in locations]\n",
    "\n",
    "#cost1 = lpSum([ val1[i]*x1[i] for i in pixels]) # suitability sum ojb1\n",
    "#cost2 = lpSum([ val2[i]*x2[i] for i in pixels]) # suitability sum ojb2\n",
    "\n",
    "cost = lpSum(list_obj)\n",
    "#prob+=cost\n",
    "#prob+=cost1\n",
    "#prob+=cost2\n",
    "prob2+=cost\n",
    "\n",
    "#Demand constraint\n",
    "#pixel_weights = np.ones(20)\n",
    "location_weights = dict(zip(locations,np.ones(n_loc).T))\n",
    "#val1 = dict(zip(pixels,r_suitability_ski.ravel().T))\n",
    "\n",
    "#list_constraint1 = [pixel_weights[i]*x1[i] for i in pixels]\n",
    "#list_constraint2 = [pixel_weights[i]*x2[i] for i in pixels]\n",
    "#print(location_weights[1])"
   ]
  },
  {
   "cell_type": "code",
   "execution_count": 404,
   "metadata": {},
   "outputs": [
    {
     "name": "stdout",
     "output_type": "stream",
     "text": [
      "CPU times: user 20 ms, sys: 8 ms, total: 28 ms\n",
      "Wall time: 131 ms\n",
      "Optimal\n"
     ]
    }
   ],
   "source": [
    "list_constraint = [location_weights[i]*x[i] for i in locations]\n",
    "prob2 += lpSum(list_constraint) <= D #demand for ski resort\n",
    "\n",
    "#print(prob2)\n",
    "\n",
    "%time prob2.solve()\n",
    "print(LpStatus[prob2.status])\n"
   ]
  },
  {
   "cell_type": "code",
   "execution_count": 405,
   "metadata": {},
   "outputs": [
    {
     "data": {
      "text/html": [
       "<div>\n",
       "<style scoped>\n",
       "    .dataframe tbody tr th:only-of-type {\n",
       "        vertical-align: middle;\n",
       "    }\n",
       "\n",
       "    .dataframe tbody tr th {\n",
       "        vertical-align: top;\n",
       "    }\n",
       "\n",
       "    .dataframe thead th {\n",
       "        text-align: right;\n",
       "    }\n",
       "</style>\n",
       "<table border=\"1\" class=\"dataframe\">\n",
       "  <thead>\n",
       "    <tr style=\"text-align: right;\">\n",
       "      <th></th>\n",
       "      <th>FID</th>\n",
       "      <th>OBJECTID</th>\n",
       "      <th>BLOCKLOT</th>\n",
       "      <th>DISTANCE</th>\n",
       "      <th>TEMPERATURE</th>\n",
       "      <th>DISTANCE_n</th>\n",
       "      <th>f_combined</th>\n",
       "      <th>selection</th>\n",
       "    </tr>\n",
       "  </thead>\n",
       "  <tbody>\n",
       "    <tr>\n",
       "      <th>0</th>\n",
       "      <td>0</td>\n",
       "      <td>666179</td>\n",
       "      <td>3438B002B</td>\n",
       "      <td>0.018812</td>\n",
       "      <td>0.582045</td>\n",
       "      <td>0.804164</td>\n",
       "      <td>1.386210</td>\n",
       "      <td>1.0</td>\n",
       "    </tr>\n",
       "    <tr>\n",
       "      <th>1</th>\n",
       "      <td>1</td>\n",
       "      <td>666200</td>\n",
       "      <td>1158 080</td>\n",
       "      <td>0.010489</td>\n",
       "      <td>0.554612</td>\n",
       "      <td>0.448391</td>\n",
       "      <td>1.003003</td>\n",
       "      <td>0.0</td>\n",
       "    </tr>\n",
       "    <tr>\n",
       "      <th>2</th>\n",
       "      <td>2</td>\n",
       "      <td>666208</td>\n",
       "      <td>3804 017</td>\n",
       "      <td>0.014795</td>\n",
       "      <td>0.532371</td>\n",
       "      <td>0.632452</td>\n",
       "      <td>1.164823</td>\n",
       "      <td>1.0</td>\n",
       "    </tr>\n",
       "    <tr>\n",
       "      <th>3</th>\n",
       "      <td>3</td>\n",
       "      <td>666212</td>\n",
       "      <td>4114C029</td>\n",
       "      <td>0.013429</td>\n",
       "      <td>0.590748</td>\n",
       "      <td>0.574044</td>\n",
       "      <td>1.164792</td>\n",
       "      <td>1.0</td>\n",
       "    </tr>\n",
       "    <tr>\n",
       "      <th>4</th>\n",
       "      <td>4</td>\n",
       "      <td>666224</td>\n",
       "      <td>1144 004</td>\n",
       "      <td>0.010189</td>\n",
       "      <td>0.508618</td>\n",
       "      <td>0.435552</td>\n",
       "      <td>0.944170</td>\n",
       "      <td>0.0</td>\n",
       "    </tr>\n",
       "  </tbody>\n",
       "</table>\n",
       "</div>"
      ],
      "text/plain": [
       "   FID  OBJECTID   BLOCKLOT  DISTANCE  TEMPERATURE  DISTANCE_n  f_combined  \\\n",
       "0    0    666179  3438B002B  0.018812     0.582045    0.804164    1.386210   \n",
       "1    1    666200   1158 080  0.010489     0.554612    0.448391    1.003003   \n",
       "2    2    666208   3804 017  0.014795     0.532371    0.632452    1.164823   \n",
       "3    3    666212   4114C029  0.013429     0.590748    0.574044    1.164792   \n",
       "4    4    666224   1144 004  0.010189     0.508618    0.435552    0.944170   \n",
       "\n",
       "   selection  \n",
       "0        1.0  \n",
       "1        0.0  \n",
       "2        1.0  \n",
       "3        1.0  \n",
       "4        0.0  "
      ]
     },
     "execution_count": 405,
     "metadata": {},
     "output_type": "execute_result"
    }
   ],
   "source": [
    "\n",
    "bool_val = []\n",
    "for i in locations:\n",
    "    tmp_val =value(x[i])\n",
    "    #print(i, value(x[i]))\n",
    "    bool_val.append(tmp_val)\n",
    "\n",
    "data_df['f_combined'] = f_combined\n",
    "data_df['selection']=bool_val\n",
    "\n",
    "data_df.head()"
   ]
  },
  {
   "cell_type": "code",
   "execution_count": 406,
   "metadata": {},
   "outputs": [
    {
     "data": {
      "text/plain": [
       "200.0"
      ]
     },
     "execution_count": 406,
     "metadata": {},
     "output_type": "execute_result"
    }
   ],
   "source": [
    "sum(bool_val) #Ok sum is matching the demand"
   ]
  },
  {
   "cell_type": "code",
   "execution_count": 407,
   "metadata": {},
   "outputs": [],
   "source": [
    "#Generate 3D plot here"
   ]
  },
  {
   "cell_type": "code",
   "execution_count": 408,
   "metadata": {},
   "outputs": [],
   "source": [
    "out_filename = \"vacant_land_selection_\" + out_suffix +'.csv'\n",
    "out_filename=os.path.join(out_dir,out_filename)\n",
    "data_df.to_csv(out_filename)"
   ]
  },
  {
   "cell_type": "code",
   "execution_count": null,
   "metadata": {},
   "outputs": [],
   "source": [
    "############################ END OFS SCRIPT ############################"
   ]
  }
 ],
 "metadata": {
  "kernelspec": {
   "display_name": "Python 3",
   "language": "python",
   "name": "python3"
  },
  "language_info": {
   "codemirror_mode": {
    "name": "ipython",
    "version": 3
   },
   "file_extension": ".py",
   "mimetype": "text/x-python",
   "name": "python",
   "nbconvert_exporter": "python",
   "pygments_lexer": "ipython3",
   "version": "3.5.2"
  }
 },
 "nbformat": 4,
 "nbformat_minor": 2
}
