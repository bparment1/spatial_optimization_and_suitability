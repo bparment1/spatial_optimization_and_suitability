{
 "cells": [
  {
   "cell_type": "markdown",
   "metadata": {},
   "source": [
    "# Multiple objective land allocation (MOLA)\n",
    "\n",
    "This notebook present an example of a MOLA analysis using python. We set up the problem as a linear programming optimization problem and solve it. This example is based on material from Sam Ratick at Clark University."
   ]
  },
  {
   "cell_type": "code",
   "execution_count": 42,
   "metadata": {},
   "outputs": [
    {
     "name": "stdout",
     "output_type": "stream",
     "text": [
      "directory already exists\n"
     ]
    }
   ],
   "source": [
    "############### SESYNC Research Support: Urban green planning ########## \n",
    "## Testing optimization.\n",
    "## \n",
    "##\n",
    "## DATE CREATED: 11/15/2018\n",
    "## DATE MODIFIED: 12/07/2018\n",
    "## AUTHORS: Benoit Parmentier  \n",
    "## Version: 1\n",
    "## PROJECT: Urban green infrastructure planning\n",
    "## ISSUE: \n",
    "## TO DO:\n",
    "##\n",
    "## COMMIT: fixed gdal.Warp bug, reprojection to MD SRS\n",
    "##\n",
    "\n",
    "###################################################\n",
    "#\n",
    "\n",
    "###### Library used\n",
    "\n",
    "import gdal\n",
    "import numpy as np\n",
    "import matplotlib.pyplot as plt\n",
    "import seaborn as sns\n",
    "import rasterio\n",
    "import subprocess\n",
    "import pandas as pd\n",
    "import os, glob\n",
    "from rasterio import plot\n",
    "import geopandas as gpd\n",
    "import scipy\n",
    "from math import cos\n",
    "import cvxpy\n",
    "\n",
    "################ NOW FUNCTIONS  ###################\n",
    "\n",
    "##------------------\n",
    "# Functions used in the script \n",
    "##------------------\n",
    "\n",
    "def create_dir_and_check_existence(path):\n",
    "    #Create a new directory\n",
    "    try:\n",
    "        os.makedirs(path)\n",
    "    except:\n",
    "        print (\"directory already exists\")\n",
    "\n",
    "############################################################################\n",
    "#####  Parameters and argument set up ########### \n",
    "\n",
    "#ARGS 1\n",
    "in_dir = \"/nfs/bparmentier-data/Data/projects/urban_green_planning/Data\"\n",
    "#in_dir <- \"/nfs/tjovanovic-data/Data/Baltimore/Hydrology/GAstart\"\n",
    "#ARGS 2\n",
    "out_dir = \"/nfs/bparmentier-data/Data/projects/urban_green_planning/outputs\"\n",
    "#ARGS 3:\n",
    "create_out_dir=True #create a new ouput dir if TRUE\n",
    "#ARGS 7\n",
    "out_suffix = \"mola_example_12032018\" #output suffix for the files and ouptut folder\n",
    "#ARGS 8\n",
    "num_cores = 2 # number of cores\n",
    "file_format = \".tif\"\n",
    "\n",
    "#dem_baltimore_filename = \"DEM_BaltArea_1m.tif\"\n",
    "#lc_baltimore_filename = \"landCover_area1m.tif\"\n",
    "#reg_outline_filename = \"watersheds8digit.shp\"\n",
    "\n",
    "################# START SCRIPT ###############################\n",
    "\n",
    "######### PART 0: Set up the output dir ################\n",
    "\n",
    "#set up the working directory\n",
    "#Create output directory\n",
    "\n",
    "if create_out_dir==True:\n",
    "    #out_path<-\"/data/project/layers/commons/data_workflow/output_data\"\n",
    "    out_dir = \"output_data_\"+out_suffix\n",
    "    out_dir = os.path.join(in_dir,out_dir)\n",
    "    create_dir_and_check_existence(out_dir)\n",
    "    os.chdir(out_dir)        #set working directory\n",
    "else:\n",
    "    os.chdir(create_out_dir) #use working dir defined earlier"
   ]
  },
  {
   "cell_type": "code",
   "execution_count": 43,
   "metadata": {},
   "outputs": [
    {
     "data": {
      "text/plain": [
       "<matplotlib.image.AxesImage at 0x7f2e3dc12f60>"
      ]
     },
     "execution_count": 43,
     "metadata": {},
     "output_type": "execute_result"
    },
    {
     "data": {
      "image/png": "[encoded data removed]",
      "text/plain": [
       "<Figure size 432x288 with 1 Axes>"
      ]
     },
     "metadata": {
      "needs_background": "light"
     },
     "output_type": "display_data"
    }
   ],
   "source": [
    "#######################################\n",
    "### PART 1: Read in DATA #######\n",
    "\n",
    "# Let's create a factor (attribute) in the multiobjective land allocation:\n",
    "\n",
    "r_d = np.arange(25).reshape((5, 5))         # create a 1-d range and reshape\n",
    "plt.imshow (r_d)\n",
    "\n",
    "f2 = [3,0,8,7,\n",
    "     0,5,7,0,\n",
    "     1,6,6,4,\n",
    "    2,4,0,0,\n",
    "    6,3,2,8]\n",
    "f2 = np.asarray(f2)\n",
    "\n",
    "r_d = f2.reshape((5,4))         # distance to road\n",
    "plt.imshow (r_d)\n",
    "\n"
   ]
  },
  {
   "cell_type": "code",
   "execution_count": 44,
   "metadata": {},
   "outputs": [
    {
     "data": {
      "text/plain": [
       "<matplotlib.image.AxesImage at 0x7f2e51b88828>"
      ]
     },
     "execution_count": 44,
     "metadata": {},
     "output_type": "execute_result"
    },
    {
     "data": {
      "image/png": "[encoded data removed]",
      "text/plain": [
       "<Figure size 432x288 with 1 Axes>"
      ]
     },
     "metadata": {
      "needs_background": "light"
     },
     "output_type": "display_data"
    }
   ],
   "source": [
    "### Now generate second factor: Map slope\n",
    "\n",
    "f2 = [6,0,6,5,\n",
    "     8,0,3,4,\n",
    "     5,7,4,7,\n",
    "     4,7,1,4,\n",
    "     8,3,6,0]\n",
    "f2 = np.asarray(f2)\n",
    "\n",
    "r_s = f2.reshape((5,4))         # slope map\n",
    "plt.imshow (r_s)\n"
   ]
  },
  {
   "cell_type": "markdown",
   "metadata": {},
   "source": [
    "#### Problem set up\n",
    "\n",
    "Assume that you are land planner and you are tasked with selecting areas for the development of as ski resort whil setting aside land for Habitat protection. The steps are as follow:\n",
    "\n",
    "1. Create factor maps (variables/criteria) relevant for your land use type objective.\n",
    "2. Select, obtain or generate weights to combine your factor (e.g. AHP, SMART etc.)\n",
    "3. Generate a suitability map for your land objective that combines all factors\n",
    "\n"
   ]
  },
  {
   "cell_type": "code",
   "execution_count": 47,
   "metadata": {},
   "outputs": [
    {
     "name": "stdout",
     "output_type": "stream",
     "text": [
      "[[15  0 30 26]\n",
      " [ 8 15 24  4]\n",
      " [ 8 25 22 19]\n",
      " [10 19  1  4]\n",
      " [26 12 12 24]]\n"
     ]
    },
    {
     "data": {
      "text/plain": [
       "<matplotlib.image.AxesImage at 0x7f2e50a8ea20>"
      ]
     },
     "execution_count": 47,
     "metadata": {},
     "output_type": "execute_result"
    },
    {
     "data": {
      "image/png": "[encoded data removed]",
      "text/plain": [
       "<Figure size 432x288 with 1 Axes>"
      ]
     },
     "metadata": {
      "needs_background": "light"
     },
     "output_type": "display_data"
    }
   ],
   "source": [
    "# Generate Habitat suitability \n",
    "\n",
    "r_suitability_habitat = 3*r_d + 1 * r_s \n",
    "print(r_suitability_habitat)\n",
    "plt.imshow (r_suitability_habitat)\n",
    "# note cell [1,1] is 15= 3*3 + 1*6"
   ]
  },
  {
   "cell_type": "code",
   "execution_count": 48,
   "metadata": {},
   "outputs": [
    {
     "name": "stdout",
     "output_type": "stream",
     "text": [
      "[[15  0 20 17]\n",
      " [16  5 13  8]\n",
      " [11 20 14 18]\n",
      " [10 18  2  8]\n",
      " [22  9 14  8]]\n"
     ]
    },
    {
     "data": {
      "text/plain": [
       "<matplotlib.image.AxesImage at 0x7f2e50aa4a58>"
      ]
     },
     "execution_count": 48,
     "metadata": {},
     "output_type": "execute_result"
    },
    {
     "data": {
      "image/png": "[encoded data removed]",
      "text/plain": [
       "<Figure size 432x288 with 1 Axes>"
      ]
     },
     "metadata": {
      "needs_background": "light"
     },
     "output_type": "display_data"
    }
   ],
   "source": [
    "# Generate Ski resort suitability \n",
    "\n",
    "r_suitability_ski = 1*r_d +2*r_s \n",
    "#r_suitability_ski = np.add(1*r_d,2*r_s)\n",
    "\n",
    "print(r_suitability_ski)\n",
    "plt.imshow(r_suitability_ski)\n",
    "# note cell [1,1] is 17= 1*5 + 2*6"
   ]
  },
  {
   "cell_type": "code",
   "execution_count": 49,
   "metadata": {},
   "outputs": [
    {
     "name": "stdout",
     "output_type": "stream",
     "text": [
      "[[17  8 12 11]\n",
      " [24  3  7 16]\n",
      " [17 16 10 18]\n",
      " [14 18 10 16]\n",
      " [18 11 18  0]]\n"
     ]
    },
    {
     "data": {
      "text/plain": [
       "<matplotlib.image.AxesImage at 0x7f2e50a5b2e8>"
      ]
     },
     "execution_count": 49,
     "metadata": {},
     "output_type": "execute_result"
    },
    {
     "data": {
      "image/png": "[encoded data removed]",
      "text/plain": [
       "<Figure size 432x288 with 1 Axes>"
      ]
     },
     "metadata": {
      "needs_background": "light"
     },
     "output_type": "display_data"
    }
   ],
   "source": [
    "# Generate Ski resort suitability \n",
    "\n",
    "f1_ski = [5,8,0,1,\n",
    "          8,3,1,8,\n",
    "          7,2,2,4,\n",
    "          6,4,8,8,\n",
    "          2,5,6,0]\n",
    "\n",
    "f2_ski = [6,0,6,5,\n",
    "          8,0,3,4,\n",
    "          5,7,4,7,\n",
    "          4,7,1,4,\n",
    "          8,3,6,0]\n",
    "\n",
    "f1_ski = np.asarray(f1_ski)\n",
    "f2_ski = np.asarray(f2_ski)\n",
    "\n",
    "r_ski_s = f2_ski.reshape((5,4))         # slope map\n",
    "plt.imshow (r_ski_s)\n",
    "r_ski_d = f1_ski.reshape((5,4))         # distance map\n",
    "plt.imshow (r_ski_d)\n",
    "\n",
    "r_suitability_ski = 1*r_ski_d +2*r_ski_s \n",
    "#r_suitability_ski = np.add(1*r_d,2*r_s)\n",
    "\n",
    "print(r_suitability_ski)\n",
    "plt.imshow(r_suitability_ski)\n",
    "# note cell [1,1] is 17= 1*5 + 2*6\n",
    "\n"
   ]
  },
  {
   "cell_type": "code",
   "execution_count": 50,
   "metadata": {},
   "outputs": [
    {
     "ename": "SyntaxError",
     "evalue": "invalid syntax (<ipython-input-50-cf583c47157a>, line 31)",
     "output_type": "error",
     "traceback": [
      "\u001b[0;36m  File \u001b[0;32m\"<ipython-input-50-cf583c47157a>\"\u001b[0;36m, line \u001b[0;32m31\u001b[0m\n\u001b[0;31m    cvxpy.\u001b[0m\n\u001b[0m          ^\u001b[0m\n\u001b[0;31mSyntaxError\u001b[0m\u001b[0;31m:\u001b[0m invalid syntax\n"
     ]
    }
   ],
   "source": [
    "# Set up linear problem for the land allocation\n",
    "\n",
    "# Maximize \n",
    "\n",
    "# The data for the Knapsack problem\n",
    "# P is total weight capacity of sack\n",
    "# weights and utilities are also specified\n",
    "P = 165 #Demand\n",
    "weights = np.array([23, 31, 29, 44, 53, 38, 63, 85, 89, 82])\n",
    "utilities = np.array([92, 57, 49, 68, 60, 43, 67, 84, 87, 72]) # suitability?\n",
    "\n",
    "# The variable we are solving for\n",
    "#selection = cvxpy.Bool(len(weights))#does not work\n",
    "selection = cvxpy.Variable(len(weights), boolean=True)\n",
    "\n",
    "\n",
    "# The sum of the weights should be less than or equal to P\n",
    "weight_constraint = weights * selection <= P\n",
    "\n",
    "# Our total utility is the sum of the item utilities\n",
    "total_utility = utilities * selection #objective function\n",
    "\n",
    "# We tell cvxpy that we want to maximize total utility \n",
    "# subject to weight_constraint. All constraints in \n",
    "# cvxpy must be passed as a list\n",
    "knapsack_problem = cvxpy.Problem(cvxpy.Maximize(total_utility), [weight_constraint])\n",
    "\n",
    "test=knapsack_problem.solve()\n",
    "# Solving the problem\n",
    "knapsack_problem.solve(solver=cvxpy.GLPK_MI)\n",
    "cvxpy.\n",
    "#print(test)\n",
    "#type(test)\n"
   ]
  },
  {
   "cell_type": "code",
   "execution_count": 18,
   "metadata": {},
   "outputs": [
    {
     "name": "stdout",
     "output_type": "stream",
     "text": [
      "CPU times: user 4 ms, sys: 4 ms, total: 8 ms\n",
      "Wall time: 20.8 ms\n",
      "Optimal\n",
      "item_0 1.0\n",
      "item_1 1.0\n",
      "item_2 1.0\n",
      "item_3 1.0\n",
      "item_4 1.0\n",
      "item_5 1.0\n",
      "item_6 0.0\n",
      "item_7 1.0\n",
      "item_8 0.0\n",
      "item_9 1.0\n",
      "item_10 0.0\n",
      "item_11 0.0\n",
      "item_12 0.0\n",
      "item_13 0.0\n",
      "item_14 1.0\n",
      "item_15 0.0\n",
      "item_16 1.0\n",
      "item_17 1.0\n",
      "item_18 1.0\n",
      "item_19 0.0\n"
     ]
    }
   ],
   "source": [
    "## testing pulp package\n",
    "\n",
    "from pulp import *\n",
    "import numpy as np\n",
    "\n",
    "items=['item_%d'%i for i in range(20)] # for spatial alocations,parcels or pixels to select \n",
    "item_weights = dict( (i,np.random.randint(1,20)) for i in items)\n",
    "item_values = dict( (i,10*np.random.rand()) for i in items)\n",
    "W = 100\n",
    "\n",
    "#variables. How many of each object to take. For simplicity lets make this 0 or 1 (classic 0-1 knapsack problem)\n",
    "x = LpVariable.dicts('item',items,0,1, LpBinary)\n",
    "\n",
    "#create the problme\n",
    "prob=LpProblem(\"knapsack\",LpMaximize)\n",
    "\n",
    "#the objective\n",
    "cost = lpSum([ item_values[i]*x[i] for i in items])\n",
    "prob+=cost\n",
    "\n",
    "#constraint\n",
    "prob += lpSum([ item_weights[i]*x[i] for i in items]) <= W\n",
    "\n",
    "%time prob.solve()\n",
    "print(LpStatus[prob.status])\n",
    "\n",
    "for i in items:\n",
    "    print(i, value(x[i]))"
   ]
  },
  {
   "cell_type": "code",
   "execution_count": null,
   "metadata": {},
   "outputs": [],
   "source": [
    "from pulp import *\n",
    "prob = LpProblem(\"Knapsack problem\", LpMaximize)\n",
    "cost = [15,18,18,23,18,20,15,16,12,12,25,25,28,35,28,28,25,25,25,28,25,32,32,28,25]\n",
    "x = LpVariable.dicts('x',range(1,26),lowBound=0,upBound=12,cat=pulp.LpInteger)\n",
    "cap = [150,180,180,230,180,200,150,160,120,120,250,250,280,350,280,280,250,250,250,280,250,320,320,280,250] \n",
    "prob += pulp.lpSum([cost[ix]*x[ix] for ix in range(1,25)]), \"obj\"\n",
    "prob += pulp.lpSum([cap[ix]*x[ix] for ix in range(1,25)]) == 6600, \"c1\"\n",
    "prob.solve()\n",
    "\n",
    "print \"Status:\", LpStatus[prob.status]\n",
    "\n",
    "for v in prob.variables():\n",
    "    if v.varValue>0.0001:\n",
    "        print v.name, \"=\", v.varValue\n",
    "\n",
    "print (\"objective = %s\" % value(prob.objective))\n"
   ]
  },
  {
   "cell_type": "code",
   "execution_count": 127,
   "metadata": {},
   "outputs": [
    {
     "ename": "PulpSolverError",
     "evalue": "Pulp: Error while executing /research-home/bparmentier/.local/lib/python3.5/site-packages/pulp/solverdir/cbc/linux/64/cbc",
     "output_type": "error",
     "traceback": [
      "\u001b[0;31m---------------------------------------------------------------------------\u001b[0m",
      "\u001b[0;31mPulpSolverError\u001b[0m                           Traceback (most recent call last)",
      "\u001b[0;32m<timed eval>\u001b[0m in \u001b[0;36m<module>\u001b[0;34m()\u001b[0m\n",
      "\u001b[0;32m~/.local/lib/python3.5/site-packages/pulp/pulp.py\u001b[0m in \u001b[0;36msolve\u001b[0;34m(self, solver, **kwargs)\u001b[0m\n\u001b[1;32m   1669\u001b[0m         \u001b[0;31m#time it\u001b[0m\u001b[0;34m\u001b[0m\u001b[0;34m\u001b[0m\u001b[0m\n\u001b[1;32m   1670\u001b[0m         \u001b[0mself\u001b[0m\u001b[0;34m.\u001b[0m\u001b[0msolutionTime\u001b[0m \u001b[0;34m=\u001b[0m \u001b[0;34m-\u001b[0m\u001b[0mclock\u001b[0m\u001b[0;34m(\u001b[0m\u001b[0;34m)\u001b[0m\u001b[0;34m\u001b[0m\u001b[0m\n\u001b[0;32m-> 1671\u001b[0;31m         \u001b[0mstatus\u001b[0m \u001b[0;34m=\u001b[0m \u001b[0msolver\u001b[0m\u001b[0;34m.\u001b[0m\u001b[0mactualSolve\u001b[0m\u001b[0;34m(\u001b[0m\u001b[0mself\u001b[0m\u001b[0;34m,\u001b[0m \u001b[0;34m**\u001b[0m\u001b[0mkwargs\u001b[0m\u001b[0;34m)\u001b[0m\u001b[0;34m\u001b[0m\u001b[0m\n\u001b[0m\u001b[1;32m   1672\u001b[0m         \u001b[0mself\u001b[0m\u001b[0;34m.\u001b[0m\u001b[0msolutionTime\u001b[0m \u001b[0;34m+=\u001b[0m \u001b[0mclock\u001b[0m\u001b[0;34m(\u001b[0m\u001b[0;34m)\u001b[0m\u001b[0;34m\u001b[0m\u001b[0m\n\u001b[1;32m   1673\u001b[0m         \u001b[0mself\u001b[0m\u001b[0;34m.\u001b[0m\u001b[0mrestoreObjective\u001b[0m\u001b[0;34m(\u001b[0m\u001b[0mwasNone\u001b[0m\u001b[0;34m,\u001b[0m \u001b[0mdummyVar\u001b[0m\u001b[0;34m)\u001b[0m\u001b[0;34m\u001b[0m\u001b[0m\n",
      "\u001b[0;32m~/.local/lib/python3.5/site-packages/pulp/solvers.py\u001b[0m in \u001b[0;36mactualSolve\u001b[0;34m(self, lp, **kwargs)\u001b[0m\n\u001b[1;32m   1360\u001b[0m     \u001b[0;32mdef\u001b[0m \u001b[0mactualSolve\u001b[0m\u001b[0;34m(\u001b[0m\u001b[0mself\u001b[0m\u001b[0;34m,\u001b[0m \u001b[0mlp\u001b[0m\u001b[0;34m,\u001b[0m \u001b[0;34m**\u001b[0m\u001b[0mkwargs\u001b[0m\u001b[0;34m)\u001b[0m\u001b[0;34m:\u001b[0m\u001b[0;34m\u001b[0m\u001b[0m\n\u001b[1;32m   1361\u001b[0m         \u001b[0;34m\"\"\"Solve a well formulated lp problem\"\"\"\u001b[0m\u001b[0;34m\u001b[0m\u001b[0m\n\u001b[0;32m-> 1362\u001b[0;31m         \u001b[0;32mreturn\u001b[0m \u001b[0mself\u001b[0m\u001b[0;34m.\u001b[0m\u001b[0msolve_CBC\u001b[0m\u001b[0;34m(\u001b[0m\u001b[0mlp\u001b[0m\u001b[0;34m,\u001b[0m \u001b[0;34m**\u001b[0m\u001b[0mkwargs\u001b[0m\u001b[0;34m)\u001b[0m\u001b[0;34m\u001b[0m\u001b[0m\n\u001b[0m\u001b[1;32m   1363\u001b[0m \u001b[0;34m\u001b[0m\u001b[0m\n\u001b[1;32m   1364\u001b[0m     \u001b[0;32mdef\u001b[0m \u001b[0mavailable\u001b[0m\u001b[0;34m(\u001b[0m\u001b[0mself\u001b[0m\u001b[0;34m)\u001b[0m\u001b[0;34m:\u001b[0m\u001b[0;34m\u001b[0m\u001b[0m\n",
      "\u001b[0;32m~/.local/lib/python3.5/site-packages/pulp/solvers.py\u001b[0m in \u001b[0;36msolve_CBC\u001b[0;34m(self, lp, use_mps)\u001b[0m\n\u001b[1;32m   1425\u001b[0m                                     self.path)\n\u001b[1;32m   1426\u001b[0m         \u001b[0;32mif\u001b[0m \u001b[0;32mnot\u001b[0m \u001b[0mos\u001b[0m\u001b[0;34m.\u001b[0m\u001b[0mpath\u001b[0m\u001b[0;34m.\u001b[0m\u001b[0mexists\u001b[0m\u001b[0;34m(\u001b[0m\u001b[0mtmpSol\u001b[0m\u001b[0;34m)\u001b[0m\u001b[0;34m:\u001b[0m\u001b[0;34m\u001b[0m\u001b[0m\n\u001b[0;32m-> 1427\u001b[0;31m             \u001b[0;32mraise\u001b[0m \u001b[0mPulpSolverError\u001b[0m\u001b[0;34m(\u001b[0m\u001b[0;34m\"Pulp: Error while executing \"\u001b[0m\u001b[0;34m+\u001b[0m\u001b[0mself\u001b[0m\u001b[0;34m.\u001b[0m\u001b[0mpath\u001b[0m\u001b[0;34m)\u001b[0m\u001b[0;34m\u001b[0m\u001b[0m\n\u001b[0m\u001b[1;32m   1428\u001b[0m         \u001b[0;32mif\u001b[0m \u001b[0muse_mps\u001b[0m\u001b[0;34m:\u001b[0m\u001b[0;34m\u001b[0m\u001b[0m\n\u001b[1;32m   1429\u001b[0m             lp.status, values, reducedCosts, shadowPrices, slacks = self.readsol_MPS(\n",
      "\u001b[0;31mPulpSolverError\u001b[0m: Pulp: Error while executing /research-home/bparmentier/.local/lib/python3.5/site-packages/pulp/solverdir/cbc/linux/64/cbc"
     ]
    },
    {
     "name": "stdout",
     "output_type": "stream",
     "text": [
      "Not Solved\n",
      "item_0 1.0\n",
      "item_1 1.0\n",
      "item_2 1.0\n",
      "item_3 1.0\n",
      "item_4 1.0\n",
      "item_5 1.0\n",
      "item_6 0.0\n",
      "item_7 1.0\n",
      "item_8 0.0\n",
      "item_9 1.0\n",
      "item_10 0.0\n",
      "item_11 0.0\n",
      "item_12 0.0\n",
      "item_13 0.0\n",
      "item_14 1.0\n",
      "item_15 0.0\n",
      "item_16 1.0\n",
      "item_17 1.0\n",
      "item_18 1.0\n",
      "item_19 0.0\n"
     ]
    }
   ],
   "source": [
    "## testing pulp package: Setting up the problem\n",
    "\n",
    "from pulp import *\n",
    "import numpy as np\n",
    "\n",
    "number_of_objectives = 2\n",
    "number_of_locations = 20\n",
    "#n_pix = number_of_objectives*number_of_locations\n",
    "n_pix = 20\n",
    "\n",
    "pixels=['pixel_%d'%i for i in range(n_pix)] # for spatial application: locations,parcels or pixels to select \n",
    "#variables. How many of each object to take. For simplicity lets make this 0 or 1 (classic 0-1 knapsack problem)\n",
    "x1 = LpVariable.dicts('pixel',pixels,0,1, LpBinary) #decision var for ski objective\n",
    "x2 = LpVariable.dicts('pixel',pixels,0,1, LpBinary) #decision for habitat objection\n",
    "\n",
    "val1 = dict(zip(pixels,r_suitability_ski.ravel().T))\n",
    "val2 = dict(zip(pixels,r_suitability_habitat.ravel().T))\n",
    "            \n",
    "D = 10 #select 10 locations/pixels for ski, correspond to Weight in Knapsack 0-1\n",
    "\n",
    "\n",
    "#create the problme\n",
    "prob=LpProblem(\"knapsack\",LpMaximize)\n",
    "\n",
    "#the objective\n",
    "#cost = lpSum([ item_values[i]*x[i] for i in items])\n",
    "#list_obj2= [ val1[i]*x2[i] for i in pixels]\n",
    "\n",
    "list_obj1= [ val1[i]*x1[i] for i in pixels]\n",
    "list_obj2= [ val2[i]*x2[i] for i in pixels]\n",
    "\n",
    "#cost1 = lpSum([ val1[i]*x1[i] for i in pixels]) # suitability sum ojb1\n",
    "#cost2 = lpSum([ val2[i]*x2[i] for i in pixels]) # suitability sum ojb2\n",
    "\n",
    "cost = lpSum(list_obj1 + list_obj2)\n",
    "#prob+=cost\n",
    "#prob+=cost1\n",
    "#prob+=cost2\n",
    "prob+=cost\n",
    "\n",
    "#Demand constraint\n",
    "#pixel_weights = np.ones(20)\n",
    "pixel_weights = dict(zip(pixels,np.ones(20).T))\n",
    "#val1 = dict(zip(pixels,r_suitability_ski.ravel().T))\n",
    "\n",
    "#list_constraint1 = [pixel_weights[i]*x1[i] for i in pixels]\n",
    "#list_constraint2 = [pixel_weights[i]*x2[i] for i in pixels]\n",
    "\n",
    "#list_constraint1 + list_constraint2\n",
    "\n",
    "list_constraint = [pixel_weights[i]*x1[i] for i in pixels]\n",
    "prob += lpSum(list_constraint) <= D #demand for ski resort\n",
    "\n",
    "#prob += lpSum(list_constraint1) <= D1 #demand for ski resort\n",
    "#prob += lpSum(list_constraint2) <= D2 #demand for ski resort\n",
    "\n",
    "### selction constation\n",
    "#x1 + x2 <= 1 #have constraint for every location.\n",
    "\n",
    "#list_constraint_loc = [x1[i]+ x2[i] for i in pixels]\n",
    "#list_constraint_loc = [x1[1]+ x2[i] for i in pixels]\n",
    "\n",
    "#for i in np.arange(20):\n",
    "#        prob += lpSum(list_constraint_loc[i]) <= 1 #demand for ski resort\n",
    "\n",
    "\n",
    "%time prob.solve()\n",
    "print(LpStatus[prob.status])\n",
    "\n",
    "for i in items:\n",
    "    print(i, value(x[i]))\n",
    "    "
   ]
  },
  {
   "cell_type": "code",
   "execution_count": 104,
   "metadata": {},
   "outputs": [
    {
     "name": "stdout",
     "output_type": "stream",
     "text": [
      "var20\n"
     ]
    }
   ],
   "source": [
    "import pulp as pl\n",
    "\n",
    "# declare some variables\n",
    "# each variable is a binary variable that is either 0 or 1\n",
    "# 1 means the item will go into the knapsack\n",
    "a = pl.LpVariable(\"a\", 0, 1, pl.LpInteger)\n",
    "b = pl.LpVariable(\"b\", 0, 1, pl.LpInteger)\n",
    "c = pl.LpVariable(\"c\", 0, 1, pl.LpInteger)\n",
    "d = pl.LpVariable(\"d\", 0, 1, pl.LpInteger)\n",
    "\n",
    "# define the problem\n",
    "prob = pl.LpProblem(\"knapsack\", pl.LpMaximize)\n",
    "\n",
    "# objective function - maximize value of objects in knapsack\n",
    "prob += 5 * a + 7 * b + 2 * c + 10 * d\n",
    "\n",
    "# constraint - weight of objects cannot exceed 15\n",
    "prob += 2 * a + 4 * b + 7 * c + 10 * d <= 15\n",
    "\n",
    "status = prob.solve()  # solve using the default solver, which is cbc\n",
    "print(pl.LpStatus[status])  # print the human-readable status\n",
    "\n",
    "# print the values\n",
    "print(\"a\", pl.value(a))\n",
    "print(\"b\", pl.value(b))\n",
    "print(\"c\", pl.value(c))\n",
    "print(\"d\", pl.value(d))\n",
    "\n",
    "Run this, and you should get the output:\n",
    "\n",
    "Optimal\n",
    "a 0.0\n",
    "b 1.0\n",
    "c 0.0\n",
    "d 1.0"
   ]
  },
  {
   "cell_type": "code",
   "execution_count": 163,
   "metadata": {},
   "outputs": [
    {
     "ename": "AttributeError",
     "evalue": "module 'numpy' has no attribute 'arrange'",
     "output_type": "error",
     "traceback": [
      "\u001b[0;31m---------------------------------------------------------------------------\u001b[0m",
      "\u001b[0;31mAttributeError\u001b[0m                            Traceback (most recent call last)",
      "\u001b[0;32m<ipython-input-163-2c1bde6c8395>\u001b[0m in \u001b[0;36m<module>\u001b[0;34m()\u001b[0m\n\u001b[1;32m     55\u001b[0m \u001b[0;31m#x1 + x2 <= 1 #have constraint for every location.\u001b[0m\u001b[0;34m\u001b[0m\u001b[0;34m\u001b[0m\u001b[0m\n\u001b[1;32m     56\u001b[0m \u001b[0;34m\u001b[0m\u001b[0m\n\u001b[0;32m---> 57\u001b[0;31m \u001b[0mlist_constraint_loc\u001b[0m \u001b[0;34m=\u001b[0m \u001b[0;34m[\u001b[0m\u001b[0mx1\u001b[0m\u001b[0;34m[\u001b[0m\u001b[0mi\u001b[0m\u001b[0;34m]\u001b[0m\u001b[0;34m+\u001b[0m \u001b[0mx2\u001b[0m\u001b[0;34m[\u001b[0m\u001b[0mi\u001b[0m\u001b[0;34m]\u001b[0m \u001b[0;32mfor\u001b[0m \u001b[0mi\u001b[0m \u001b[0;32min\u001b[0m \u001b[0mnp\u001b[0m\u001b[0;34m.\u001b[0m\u001b[0marrange\u001b[0m\u001b[0;34m(\u001b[0m\u001b[0;36m20\u001b[0m\u001b[0;34m)\u001b[0m\u001b[0;34m]\u001b[0m\u001b[0;34m\u001b[0m\u001b[0m\n\u001b[0m\u001b[1;32m     58\u001b[0m \u001b[0;31m#list_constraint_loc = [x1[1]+ x2[i] for i in pixels]\u001b[0m\u001b[0;34m\u001b[0m\u001b[0;34m\u001b[0m\u001b[0m\n\u001b[1;32m     59\u001b[0m \u001b[0;34m\u001b[0m\u001b[0m\n",
      "\u001b[0;31mAttributeError\u001b[0m: module 'numpy' has no attribute 'arrange'"
     ]
    }
   ],
   "source": [
    "## testing pulp package\n",
    "\n",
    "from pulp import *\n",
    "import numpy as np\n",
    "\n",
    "pixels1=['pixel1_%d'%i for i in range(20)] # for spatial application: locations,parcels or pixels to select \n",
    "pixels2=['pixel2_%d'%i for i in range(20)] # for spatial application: locations,parcels or pixels to select \n",
    "\n",
    "#variables. How many of each object to take. For simplicity lets make this 0 or 1 (classic 0-1 knapsack problem)\n",
    "x1 = LpVariable.dicts('pixel1',pixels1,0,1, LpBinary) #decision var for ski objective\n",
    "x2 = LpVariable.dicts('pixel2',pixels2,0,1, LpBinary) #decision for habitat objection\n",
    "\n",
    "val1 = dict(zip(pixels1,r_suitability_ski.ravel().T))\n",
    "val2 = dict(zip(pixels2,r_suitability_habitat.ravel().T))\n",
    "            \n",
    "D1 = 10 #select 10 locations/pixels for ski, correspond to Weight in Knapsack 0-1\n",
    "D2 = 8 #select 8 locations/pixels for habitat\n",
    "\n",
    "#x1**2 = 10 #constraint on x1, sum on x1 vector component should be equal to 10\n",
    "#x2**2 = 8 #constraint on x2, sum on x2 vector component should be equal to 8\n",
    "\n",
    "#create the problme\n",
    "prob=LpProblem(\"knapsack\",LpMaximize)\n",
    "\n",
    "#the objective\n",
    "#cost = lpSum([ item_values[i]*x[i] for i in items])\n",
    "#list_obj2= [ val1[i]*x2[i] for i in pixels]\n",
    "\n",
    "list_obj1= [ val1[i]*x1[i] for i in pixels1]\n",
    "list_obj2= [ val2[i]*x2[i] for i in pixels2]\n",
    "\n",
    "#cost1 = lpSum([ val1[i]*x1[i] for i in pixels]) # suitability sum ojb1\n",
    "#cost2 = lpSum([ val2[i]*x2[i] for i in pixels]) # suitability sum ojb2\n",
    "\n",
    "cost = lpSum(list_obj1 + list_obj2)\n",
    "#prob+=cost\n",
    "#prob+=cost1\n",
    "#prob+=cost2\n",
    "prob+=cost\n",
    "\n",
    "#Demand constraint\n",
    "#pixel_weights = np.ones(20)\n",
    "pixel_weights1 = dict(zip(pixels1,np.ones(20).T))\n",
    "pixel_weights2 = dict(zip(pixels2,np.ones(20).T))\n",
    "\n",
    "#val1 = dict(zip(pixels,r_suitability_ski.ravel().T))\n",
    "\n",
    "list_constraint1 = [pixel_weights1[i]*x1[i] for i in pixels1]\n",
    "list_constraint2 = [pixel_weights2[i]*x2[i] for i in pixels2]\n",
    "\n",
    "prob += lpSum(list_constraint1) <= D1 #demand for ski resort\n",
    "prob += lpSum(list_constraint2) <= D2 #demand for ski resort\n",
    "\n",
    "### selction constation\n",
    "#x1 + x2 <= 1 #have constraint for every location.\n",
    "\n",
    "list_constraint_loc = [x1[i]+ x2[i] for i in np.arrange(20)]\n",
    "#list_constraint_loc = [x1[1]+ x2[i] for i in pixels]\n",
    "\n",
    "for i in np.arange(20):\n",
    "        prob += lpSum(list_constraint_loc[i]) <= 1 #demand for ski resort\n",
    "\n",
    "\n",
    "%time prob.solve()\n",
    "print(LpStatus[prob.status])\n",
    "\n",
    "#for i in items:\n",
    "#    print(i, value(x[i]))\n"
   ]
  },
  {
   "cell_type": "code",
   "execution_count": 164,
   "metadata": {},
   "outputs": [
    {
     "data": {
      "text/plain": [
       "[1*pixel_pixel_0 + 1*pixel_pixel_0 + 0,\n",
       " 1*pixel_pixel_1 + 1*pixel_pixel_1 + 0,\n",
       " 1*pixel_pixel_2 + 1*pixel_pixel_2 + 0,\n",
       " 1*pixel_pixel_3 + 1*pixel_pixel_3 + 0,\n",
       " 1*pixel_pixel_4 + 1*pixel_pixel_4 + 0,\n",
       " 1*pixel_pixel_5 + 1*pixel_pixel_5 + 0,\n",
       " 1*pixel_pixel_6 + 1*pixel_pixel_6 + 0,\n",
       " 1*pixel_pixel_7 + 1*pixel_pixel_7 + 0,\n",
       " 1*pixel_pixel_8 + 1*pixel_pixel_8 + 0,\n",
       " 1*pixel_pixel_9 + 1*pixel_pixel_9 + 0,\n",
       " 1*pixel_pixel_10 + 1*pixel_pixel_10 + 0,\n",
       " 1*pixel_pixel_11 + 1*pixel_pixel_11 + 0,\n",
       " 1*pixel_pixel_12 + 1*pixel_pixel_12 + 0,\n",
       " 1*pixel_pixel_13 + 1*pixel_pixel_13 + 0,\n",
       " 1*pixel_pixel_14 + 1*pixel_pixel_14 + 0,\n",
       " 1*pixel_pixel_15 + 1*pixel_pixel_15 + 0,\n",
       " 1*pixel_pixel_16 + 1*pixel_pixel_16 + 0,\n",
       " 1*pixel_pixel_17 + 1*pixel_pixel_17 + 0,\n",
       " 1*pixel_pixel_18 + 1*pixel_pixel_18 + 0,\n",
       " 1*pixel_pixel_19 + 1*pixel_pixel_19 + 0]"
      ]
     },
     "execution_count": 164,
     "metadata": {},
     "output_type": "execute_result"
    }
   ],
   "source": [
    "list_constraint_loc\n"
   ]
  },
  {
   "cell_type": "code",
   "execution_count": 166,
   "metadata": {},
   "outputs": [
    {
     "data": {
      "text/plain": [
       "{'pixel1_0': pixel1_pixel1_0,\n",
       " 'pixel1_1': pixel1_pixel1_1,\n",
       " 'pixel1_10': pixel1_pixel1_10,\n",
       " 'pixel1_11': pixel1_pixel1_11,\n",
       " 'pixel1_12': pixel1_pixel1_12,\n",
       " 'pixel1_13': pixel1_pixel1_13,\n",
       " 'pixel1_14': pixel1_pixel1_14,\n",
       " 'pixel1_15': pixel1_pixel1_15,\n",
       " 'pixel1_16': pixel1_pixel1_16,\n",
       " 'pixel1_17': pixel1_pixel1_17,\n",
       " 'pixel1_18': pixel1_pixel1_18,\n",
       " 'pixel1_19': pixel1_pixel1_19,\n",
       " 'pixel1_2': pixel1_pixel1_2,\n",
       " 'pixel1_3': pixel1_pixel1_3,\n",
       " 'pixel1_4': pixel1_pixel1_4,\n",
       " 'pixel1_5': pixel1_pixel1_5,\n",
       " 'pixel1_6': pixel1_pixel1_6,\n",
       " 'pixel1_7': pixel1_pixel1_7,\n",
       " 'pixel1_8': pixel1_pixel1_8,\n",
       " 'pixel1_9': pixel1_pixel1_9}"
      ]
     },
     "execution_count": 166,
     "metadata": {},
     "output_type": "execute_result"
    }
   ],
   "source": [
    "x1"
   ]
  },
  {
   "cell_type": "code",
   "execution_count": 167,
   "metadata": {},
   "outputs": [
    {
     "ename": "KeyError",
     "evalue": "19",
     "output_type": "error",
     "traceback": [
      "\u001b[0;31m---------------------------------------------------------------------------\u001b[0m",
      "\u001b[0;31mKeyError\u001b[0m                                  Traceback (most recent call last)",
      "\u001b[0;32m<ipython-input-167-6edaa1ce8c0c>\u001b[0m in \u001b[0;36m<module>\u001b[0;34m()\u001b[0m\n\u001b[0;32m----> 1\u001b[0;31m \u001b[0mx2\u001b[0m\u001b[0;34m[\u001b[0m\u001b[0mi\u001b[0m\u001b[0;34m]\u001b[0m\u001b[0;34m\u001b[0m\u001b[0m\n\u001b[0m",
      "\u001b[0;31mKeyError\u001b[0m: 19"
     ]
    }
   ],
   "source": [
    "x2[i]"
   ]
  },
  {
   "cell_type": "code",
   "execution_count": 168,
   "metadata": {},
   "outputs": [
    {
     "data": {
      "text/plain": [
       "{'pixel2_0': pixel2_pixel2_0,\n",
       " 'pixel2_1': pixel2_pixel2_1,\n",
       " 'pixel2_10': pixel2_pixel2_10,\n",
       " 'pixel2_11': pixel2_pixel2_11,\n",
       " 'pixel2_12': pixel2_pixel2_12,\n",
       " 'pixel2_13': pixel2_pixel2_13,\n",
       " 'pixel2_14': pixel2_pixel2_14,\n",
       " 'pixel2_15': pixel2_pixel2_15,\n",
       " 'pixel2_16': pixel2_pixel2_16,\n",
       " 'pixel2_17': pixel2_pixel2_17,\n",
       " 'pixel2_18': pixel2_pixel2_18,\n",
       " 'pixel2_19': pixel2_pixel2_19,\n",
       " 'pixel2_2': pixel2_pixel2_2,\n",
       " 'pixel2_3': pixel2_pixel2_3,\n",
       " 'pixel2_4': pixel2_pixel2_4,\n",
       " 'pixel2_5': pixel2_pixel2_5,\n",
       " 'pixel2_6': pixel2_pixel2_6,\n",
       " 'pixel2_7': pixel2_pixel2_7,\n",
       " 'pixel2_8': pixel2_pixel2_8,\n",
       " 'pixel2_9': pixel2_pixel2_9}"
      ]
     },
     "execution_count": 168,
     "metadata": {},
     "output_type": "execute_result"
    }
   ],
   "source": [
    "x2"
   ]
  },
  {
   "cell_type": "code",
   "execution_count": 169,
   "metadata": {},
   "outputs": [],
   "source": [
    "\n"
   ]
  },
  {
   "cell_type": "code",
   "execution_count": null,
   "metadata": {},
   "outputs": [],
   "source": []
  }
 ],
 "metadata": {
  "kernelspec": {
   "display_name": "Python 3",
   "language": "python",
   "name": "python3"
  },
  "language_info": {
   "codemirror_mode": {
    "name": "ipython",
    "version": 3
   },
   "file_extension": ".py",
   "mimetype": "text/x-python",
   "name": "python",
   "nbconvert_exporter": "python",
   "pygments_lexer": "ipython3",
   "version": "3.5.2"
  }
 },
 "nbformat": 4,
 "nbformat_minor": 2
}
